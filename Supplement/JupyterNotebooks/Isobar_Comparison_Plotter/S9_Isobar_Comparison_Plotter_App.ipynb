{
 "cells": [
  {
   "cell_type": "code",
   "execution_count": 1,
   "metadata": {},
   "outputs": [],
   "source": [
    "import VESIcal as v\n",
    "import pandas as pd\n",
    "import matplotlib.pyplot as plt\n",
    "%matplotlib inline\n",
    "\n",
    "import warnings\n",
    "warnings.filterwarnings('ignore')\n",
    "\n",
    "from ipywidgets import VBox, HBox, Button, Output, IntSlider, FloatSlider, interact_manual"
   ]
  },
  {
   "cell_type": "code",
   "execution_count": 2,
   "metadata": {},
   "outputs": [
    {
     "data": {
      "text/html": [
       "<div>\n",
       "<style scoped>\n",
       "    .dataframe tbody tr th:only-of-type {\n",
       "        vertical-align: middle;\n",
       "    }\n",
       "\n",
       "    .dataframe tbody tr th {\n",
       "        vertical-align: top;\n",
       "    }\n",
       "\n",
       "    .dataframe thead th {\n",
       "        text-align: right;\n",
       "    }\n",
       "</style>\n",
       "<table border=\"1\" class=\"dataframe\">\n",
       "  <thead>\n",
       "    <tr style=\"text-align: right;\">\n",
       "      <th></th>\n",
       "      <th>SiO2</th>\n",
       "      <th>TiO2</th>\n",
       "      <th>Al2O3</th>\n",
       "      <th>Fe2O3</th>\n",
       "      <th>FeO</th>\n",
       "      <th>MnO</th>\n",
       "      <th>MgO</th>\n",
       "      <th>CaO</th>\n",
       "      <th>Na2O</th>\n",
       "      <th>K2O</th>\n",
       "      <th>P2O5</th>\n",
       "      <th>H2O</th>\n",
       "      <th>CO2</th>\n",
       "    </tr>\n",
       "  </thead>\n",
       "  <tbody>\n",
       "    <tr>\n",
       "      <th>Alkali Basalt</th>\n",
       "      <td>49.00</td>\n",
       "      <td>1.27</td>\n",
       "      <td>19.7</td>\n",
       "      <td>3.74</td>\n",
       "      <td>5.33</td>\n",
       "      <td>0.17</td>\n",
       "      <td>4.82</td>\n",
       "      <td>8.85</td>\n",
       "      <td>4.23</td>\n",
       "      <td>1.00</td>\n",
       "      <td>0.37</td>\n",
       "      <td>4.51</td>\n",
       "      <td>0.25</td>\n",
       "    </tr>\n",
       "    <tr>\n",
       "      <th>Rhyolite</th>\n",
       "      <td>77.19</td>\n",
       "      <td>0.06</td>\n",
       "      <td>12.8</td>\n",
       "      <td>NaN</td>\n",
       "      <td>0.94</td>\n",
       "      <td>NaN</td>\n",
       "      <td>0.03</td>\n",
       "      <td>0.53</td>\n",
       "      <td>3.98</td>\n",
       "      <td>4.65</td>\n",
       "      <td>NaN</td>\n",
       "      <td>0.26</td>\n",
       "      <td>0.05</td>\n",
       "    </tr>\n",
       "  </tbody>\n",
       "</table>\n",
       "</div>"
      ],
      "text/plain": [
       "                SiO2  TiO2  Al2O3  Fe2O3   FeO   MnO   MgO   CaO  Na2O   K2O  \\\n",
       "Alkali Basalt  49.00  1.27   19.7   3.74  5.33  0.17  4.82  8.85  4.23  1.00   \n",
       "Rhyolite       77.19  0.06   12.8    NaN  0.94   NaN  0.03  0.53  3.98  4.65   \n",
       "\n",
       "               P2O5   H2O   CO2  \n",
       "Alkali Basalt  0.37  4.51  0.25  \n",
       "Rhyolite        NaN  0.26  0.05  "
      ]
     },
     "execution_count": 2,
     "metadata": {},
     "output_type": "execute_result"
    }
   ],
   "source": [
    "alkbasalt = v.Sample({'SiO2': 49.0,\n",
    "                'TiO2': 1.27,\n",
    "                'Al2O3': 19.7,\n",
    "                'Fe2O3': 3.74,\n",
    "                'FeO': 5.33,\n",
    "                'MnO': 0.17,\n",
    "                'MgO': 4.82,\n",
    "                'CaO': 8.85,\n",
    "                'Na2O': 4.23,\n",
    "                'K2O': 1.00,\n",
    "                'P2O5': 0.37,\n",
    "                'H2O': 4.51,\n",
    "                'CO2': 0.25})\n",
    "\n",
    "rhyolite = v.Sample({'SiO2':77.19,\n",
    "                 'TiO2':0.06,\n",
    "                 'Al2O3':12.80,\n",
    "                 'FeO':0.94,\n",
    "                 'MgO':0.03,\n",
    "                 'CaO':0.53,\n",
    "                 'Na2O':3.98,\n",
    "                 'K2O':4.65,\n",
    "                 'CO2':0.05,\n",
    "                 'H2O':0.26})\n",
    "\n",
    "sample_table = pd.DataFrame([alkbasalt.get_composition(), rhyolite.get_composition()], index=[\"Alkali Basalt\", \"Rhyolite\"])\n",
    "sample_table\n"
   ]
  },
  {
   "cell_type": "code",
   "execution_count": 4,
   "metadata": {
    "tags": [
     "remove-stdout"
    ]
   },
   "outputs": [
    {
     "data": {
      "application/vnd.jupyter.widget-view+json": {
       "model_id": "7bddcb0d1b254687a6c115f574f2ef83",
       "version_major": 2,
       "version_minor": 0
      },
      "text/plain": [
       "interactive(children=(IntSlider(value=1200, description='temp', max=3000, min=500, step=100), IntSlider(value=…"
      ]
     },
     "metadata": {},
     "output_type": "display_data"
    }
   ],
   "source": [
    "temperature = 1200\n",
    "pressure = 1000\n",
    "isopleth = 0.5\n",
    "\n",
    "w_temp = IntSlider(1200, 500, 3000, 100)\n",
    "w_p = IntSlider(1000, 200, 3000, 100)\n",
    "w_ip = FloatSlider(0.5, min=0, max=1, step=0.1)\n",
    "\n",
    "\n",
    "def compute_and_plot_isobars(temp, pressure, isopleth):\n",
    "    alkbasalt_isobars, alkbasalt_isopleths = v.calculate_isobars_and_isopleths(\n",
    "        sample=alkbasalt, temperature=temperature, pressure_list=[pressure], isopleth_list=[isopleth], print_status=True).result\n",
    "\n",
    "    Iac_alkbasalt_isobars, Iac_alkbasalt_isopleths = v.calculate_isobars_and_isopleths(\n",
    "        sample=alkbasalt, temperature=temperature, pressure_list=[pressure], isopleth_list=[isopleth], model=\"IaconoMarziano\").result\n",
    "\n",
    "    Dixon_alkbasalt_isobars, Dixon_alkbasalt_isopleths = v.calculate_isobars_and_isopleths(\n",
    "        sample=alkbasalt, temperature=temperature, pressure_list=[pressure], isopleth_list=[isopleth], model=\"Dixon\").result\n",
    "    Shish_alkbasalt_isobars, Shish_alkbasalt_isopleths = v.calculate_isobars_and_isopleths(\n",
    "        sample=alkbasalt, temperature=temperature, pressure_list=[pressure], isopleth_list=[isopleth], model=\"ShishkinaIdealMixing\").result\n",
    "        \n",
    "    v.plot(isobars=[alkbasalt_isobars, Iac_alkbasalt_isobars, Dixon_alkbasalt_isobars, Shish_alkbasalt_isobars],\n",
    "        isobar_labels=[\"MagmaSat\", \"Iacono-Marziano\", \"Dixon\", \"Shishkina\"])\n",
    "    v.show()\n",
    "        \n",
    "    return [alkbasalt_isobars, Iac_alkbasalt_isobars, Dixon_alkbasalt_isobars, Shish_alkbasalt_isobars]\n",
    "\n",
    "\n",
    "interact_manual(compute_and_plot_isobars, temp=w_temp, pressure=w_p, isopleth=w_ip);\n",
    "\n"
   ]
  },
  {
   "cell_type": "code",
   "execution_count": null,
   "metadata": {},
   "outputs": [],
   "source": []
  }
 ],
 "metadata": {
  "kernelspec": {
   "display_name": "Python 3 (ipykernel)",
   "language": "python",
   "name": "python3"
  },
  "language_info": {
   "codemirror_mode": {
    "name": "ipython",
    "version": 3
   },
   "file_extension": ".py",
   "mimetype": "text/x-python",
   "name": "python",
   "nbconvert_exporter": "python",
   "pygments_lexer": "ipython3",
   "version": "3.9.13"
  },
  "toc": {
   "base_numbering": 1,
   "nav_menu": {},
   "number_sections": true,
   "sideBar": true,
   "skip_h1_title": false,
   "title_cell": "Table of Contents",
   "title_sidebar": "Contents",
   "toc_cell": false,
   "toc_position": {},
   "toc_section_display": true,
   "toc_window_display": false
  }
 },
 "nbformat": 4,
 "nbformat_minor": 4
}
